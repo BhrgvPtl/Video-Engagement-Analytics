{
 "cells": [
  {
   "cell_type": "markdown",
   "metadata": {},
   "source": [
    "# 01 - Explore Trending Videos\n",
    "Use this notebook to inspect raw YouTube trending metadata and derive headline KPIs."
   ]
  },
  {
   "cell_type": "code",
   "execution_count": null,
   "metadata": {},
   "outputs": [],
   "source": [
    "import pandas as pd\n",
    "\n",
    "# Load downloaded Kaggle trending dataset\n",
    "trending_videos = pd.read_csv('../data/raw/youtube_trending_sample.csv')\n",
    "trending_videos.head()"
   ]
  }
 ],
 "metadata": {
  "kernelspec": {
   "display_name": "Python 3",
   "language": "python",
   "name": "python3"
  },
  "language_info": {
   "name": "python",
   "version": "3.10"
  }
 },
 "nbformat": 4,
 "nbformat_minor": 5
}
